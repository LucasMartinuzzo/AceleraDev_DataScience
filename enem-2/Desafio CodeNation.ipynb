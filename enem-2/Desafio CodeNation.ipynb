{
 "cells": [
  {
   "cell_type": "code",
   "execution_count": 1,
   "metadata": {
    "ExecuteTime": {
     "end_time": "2020-05-30T23:36:11.014740Z",
     "start_time": "2020-05-30T23:36:10.524886Z"
    }
   },
   "outputs": [],
   "source": [
    "import pandas as pd\n",
    "import numpy as np"
   ]
  },
  {
   "cell_type": "code",
   "execution_count": 2,
   "metadata": {
    "ExecuteTime": {
     "end_time": "2020-05-30T23:36:11.447989Z",
     "start_time": "2020-05-30T23:36:11.016695Z"
    }
   },
   "outputs": [],
   "source": [
    "full_df = pd.read_csv('train.csv')\n",
    "full_df = full_df[~full_df['NU_NOTA_MT'].isna()]"
   ]
  },
  {
   "cell_type": "code",
   "execution_count": 3,
   "metadata": {
    "ExecuteTime": {
     "end_time": "2020-05-30T23:36:12.249082Z",
     "start_time": "2020-05-30T23:36:12.193201Z"
    }
   },
   "outputs": [],
   "source": [
    "test = pd.read_csv('test.csv')"
   ]
  },
  {
   "cell_type": "code",
   "execution_count": 4,
   "metadata": {
    "ExecuteTime": {
     "end_time": "2020-05-30T23:36:12.664891Z",
     "start_time": "2020-05-30T23:36:12.653886Z"
    }
   },
   "outputs": [
    {
     "data": {
      "text/plain": [
       "(10133, 167)"
      ]
     },
     "execution_count": 4,
     "metadata": {},
     "output_type": "execute_result"
    }
   ],
   "source": [
    "full_df.shape"
   ]
  },
  {
   "cell_type": "code",
   "execution_count": 5,
   "metadata": {
    "ExecuteTime": {
     "end_time": "2020-05-30T23:36:13.568589Z",
     "start_time": "2020-05-30T23:36:13.564599Z"
    }
   },
   "outputs": [
    {
     "data": {
      "text/plain": [
       "(4576, 47)"
      ]
     },
     "execution_count": 5,
     "metadata": {},
     "output_type": "execute_result"
    }
   ],
   "source": [
    "test.shape"
   ]
  },
  {
   "cell_type": "code",
   "execution_count": 6,
   "metadata": {
    "ExecuteTime": {
     "end_time": "2020-05-30T23:36:14.640733Z",
     "start_time": "2020-05-30T23:36:14.633751Z"
    }
   },
   "outputs": [],
   "source": [
    "variavel_resposta = 'NU_NOTA_MT'"
   ]
  },
  {
   "cell_type": "code",
   "execution_count": 7,
   "metadata": {
    "ExecuteTime": {
     "end_time": "2020-05-30T23:36:17.062295Z",
     "start_time": "2020-05-30T23:36:17.034343Z"
    }
   },
   "outputs": [
    {
     "data": {
      "text/html": [
       "<div>\n",
       "<style scoped>\n",
       "    .dataframe tbody tr th:only-of-type {\n",
       "        vertical-align: middle;\n",
       "    }\n",
       "\n",
       "    .dataframe tbody tr th {\n",
       "        vertical-align: top;\n",
       "    }\n",
       "\n",
       "    .dataframe thead th {\n",
       "        text-align: right;\n",
       "    }\n",
       "</style>\n",
       "<table border=\"1\" class=\"dataframe\">\n",
       "  <thead>\n",
       "    <tr style=\"text-align: right;\">\n",
       "      <th></th>\n",
       "      <th>Unnamed: 0</th>\n",
       "      <th>NU_INSCRICAO</th>\n",
       "      <th>NU_ANO</th>\n",
       "      <th>CO_MUNICIPIO_RESIDENCIA</th>\n",
       "      <th>NO_MUNICIPIO_RESIDENCIA</th>\n",
       "      <th>CO_UF_RESIDENCIA</th>\n",
       "      <th>SG_UF_RESIDENCIA</th>\n",
       "      <th>NU_IDADE</th>\n",
       "      <th>TP_SEXO</th>\n",
       "      <th>TP_ESTADO_CIVIL</th>\n",
       "      <th>...</th>\n",
       "      <th>Q041</th>\n",
       "      <th>Q042</th>\n",
       "      <th>Q043</th>\n",
       "      <th>Q044</th>\n",
       "      <th>Q045</th>\n",
       "      <th>Q046</th>\n",
       "      <th>Q047</th>\n",
       "      <th>Q048</th>\n",
       "      <th>Q049</th>\n",
       "      <th>Q050</th>\n",
       "    </tr>\n",
       "  </thead>\n",
       "  <tbody>\n",
       "    <tr>\n",
       "      <th>0</th>\n",
       "      <td>1</td>\n",
       "      <td>ed50e8aaa58e7a806c337585efee9ca41f1eb1ad</td>\n",
       "      <td>2016</td>\n",
       "      <td>4314902</td>\n",
       "      <td>Porto Alegre</td>\n",
       "      <td>43</td>\n",
       "      <td>RS</td>\n",
       "      <td>24</td>\n",
       "      <td>M</td>\n",
       "      <td>0.0</td>\n",
       "      <td>...</td>\n",
       "      <td>5.0</td>\n",
       "      <td>A</td>\n",
       "      <td>A</td>\n",
       "      <td>A</td>\n",
       "      <td>A</td>\n",
       "      <td>A</td>\n",
       "      <td>A</td>\n",
       "      <td>A</td>\n",
       "      <td>B</td>\n",
       "      <td>D</td>\n",
       "    </tr>\n",
       "    <tr>\n",
       "      <th>1</th>\n",
       "      <td>2</td>\n",
       "      <td>2c3acac4b33ec2b195d77e7c04a2d75727fad723</td>\n",
       "      <td>2016</td>\n",
       "      <td>2304707</td>\n",
       "      <td>Granja</td>\n",
       "      <td>23</td>\n",
       "      <td>CE</td>\n",
       "      <td>17</td>\n",
       "      <td>F</td>\n",
       "      <td>0.0</td>\n",
       "      <td>...</td>\n",
       "      <td>NaN</td>\n",
       "      <td>A</td>\n",
       "      <td>A</td>\n",
       "      <td>C</td>\n",
       "      <td>A</td>\n",
       "      <td>B</td>\n",
       "      <td>A</td>\n",
       "      <td>A</td>\n",
       "      <td>C</td>\n",
       "      <td>A</td>\n",
       "    </tr>\n",
       "    <tr>\n",
       "      <th>5</th>\n",
       "      <td>6</td>\n",
       "      <td>a37c99ec251d4f6e8ddbeabadf1c87fdbfddc4d1</td>\n",
       "      <td>2016</td>\n",
       "      <td>2902005</td>\n",
       "      <td>Aracatu</td>\n",
       "      <td>29</td>\n",
       "      <td>BA</td>\n",
       "      <td>18</td>\n",
       "      <td>F</td>\n",
       "      <td>0.0</td>\n",
       "      <td>...</td>\n",
       "      <td>NaN</td>\n",
       "      <td>A</td>\n",
       "      <td>A</td>\n",
       "      <td>A</td>\n",
       "      <td>A</td>\n",
       "      <td>A</td>\n",
       "      <td>A</td>\n",
       "      <td>A</td>\n",
       "      <td>A</td>\n",
       "      <td>A</td>\n",
       "    </tr>\n",
       "    <tr>\n",
       "      <th>6</th>\n",
       "      <td>7</td>\n",
       "      <td>63b4e128e9ffe8ab27f5d093db1976ef4f353e0a</td>\n",
       "      <td>2016</td>\n",
       "      <td>5102637</td>\n",
       "      <td>Campo Novo do Parecis</td>\n",
       "      <td>51</td>\n",
       "      <td>MT</td>\n",
       "      <td>18</td>\n",
       "      <td>F</td>\n",
       "      <td>0.0</td>\n",
       "      <td>...</td>\n",
       "      <td>0.0</td>\n",
       "      <td>A</td>\n",
       "      <td>A</td>\n",
       "      <td>A</td>\n",
       "      <td>B</td>\n",
       "      <td>B</td>\n",
       "      <td>A</td>\n",
       "      <td>A</td>\n",
       "      <td>A</td>\n",
       "      <td>A</td>\n",
       "    </tr>\n",
       "    <tr>\n",
       "      <th>7</th>\n",
       "      <td>8</td>\n",
       "      <td>2eb189d4912f64b19d1967e8e84b6141aba18770</td>\n",
       "      <td>2016</td>\n",
       "      <td>4301602</td>\n",
       "      <td>Bagé</td>\n",
       "      <td>43</td>\n",
       "      <td>RS</td>\n",
       "      <td>18</td>\n",
       "      <td>F</td>\n",
       "      <td>0.0</td>\n",
       "      <td>...</td>\n",
       "      <td>NaN</td>\n",
       "      <td>C</td>\n",
       "      <td>A</td>\n",
       "      <td>A</td>\n",
       "      <td>A</td>\n",
       "      <td>A</td>\n",
       "      <td>D</td>\n",
       "      <td>A</td>\n",
       "      <td>A</td>\n",
       "      <td>A</td>\n",
       "    </tr>\n",
       "  </tbody>\n",
       "</table>\n",
       "<p>5 rows × 167 columns</p>\n",
       "</div>"
      ],
      "text/plain": [
       "   Unnamed: 0                              NU_INSCRICAO  NU_ANO  \\\n",
       "0           1  ed50e8aaa58e7a806c337585efee9ca41f1eb1ad    2016   \n",
       "1           2  2c3acac4b33ec2b195d77e7c04a2d75727fad723    2016   \n",
       "5           6  a37c99ec251d4f6e8ddbeabadf1c87fdbfddc4d1    2016   \n",
       "6           7  63b4e128e9ffe8ab27f5d093db1976ef4f353e0a    2016   \n",
       "7           8  2eb189d4912f64b19d1967e8e84b6141aba18770    2016   \n",
       "\n",
       "   CO_MUNICIPIO_RESIDENCIA NO_MUNICIPIO_RESIDENCIA  CO_UF_RESIDENCIA  \\\n",
       "0                  4314902            Porto Alegre                43   \n",
       "1                  2304707                  Granja                23   \n",
       "5                  2902005                 Aracatu                29   \n",
       "6                  5102637   Campo Novo do Parecis                51   \n",
       "7                  4301602                    Bagé                43   \n",
       "\n",
       "  SG_UF_RESIDENCIA  NU_IDADE TP_SEXO  TP_ESTADO_CIVIL  ...  Q041  Q042  Q043  \\\n",
       "0               RS        24       M              0.0  ...   5.0     A     A   \n",
       "1               CE        17       F              0.0  ...   NaN     A     A   \n",
       "5               BA        18       F              0.0  ...   NaN     A     A   \n",
       "6               MT        18       F              0.0  ...   0.0     A     A   \n",
       "7               RS        18       F              0.0  ...   NaN     C     A   \n",
       "\n",
       "  Q044  Q045 Q046  Q047  Q048  Q049  Q050  \n",
       "0    A     A    A     A     A     B     D  \n",
       "1    C     A    B     A     A     C     A  \n",
       "5    A     A    A     A     A     A     A  \n",
       "6    A     B    B     A     A     A     A  \n",
       "7    A     A    A     D     A     A     A  \n",
       "\n",
       "[5 rows x 167 columns]"
      ]
     },
     "execution_count": 7,
     "metadata": {},
     "output_type": "execute_result"
    }
   ],
   "source": [
    "full_df.head()"
   ]
  },
  {
   "cell_type": "code",
   "execution_count": 8,
   "metadata": {
    "ExecuteTime": {
     "end_time": "2020-05-30T23:36:22.228390Z",
     "start_time": "2020-05-30T23:36:22.188503Z"
    }
   },
   "outputs": [
    {
     "data": {
      "text/html": [
       "<div>\n",
       "<style scoped>\n",
       "    .dataframe tbody tr th:only-of-type {\n",
       "        vertical-align: middle;\n",
       "    }\n",
       "\n",
       "    .dataframe tbody tr th {\n",
       "        vertical-align: top;\n",
       "    }\n",
       "\n",
       "    .dataframe thead th {\n",
       "        text-align: right;\n",
       "    }\n",
       "</style>\n",
       "<table border=\"1\" class=\"dataframe\">\n",
       "  <thead>\n",
       "    <tr style=\"text-align: right;\">\n",
       "      <th></th>\n",
       "      <th>NU_INSCRICAO</th>\n",
       "      <th>CO_UF_RESIDENCIA</th>\n",
       "      <th>SG_UF_RESIDENCIA</th>\n",
       "      <th>NU_IDADE</th>\n",
       "      <th>TP_SEXO</th>\n",
       "      <th>TP_COR_RACA</th>\n",
       "      <th>TP_NACIONALIDADE</th>\n",
       "      <th>TP_ST_CONCLUSAO</th>\n",
       "      <th>TP_ANO_CONCLUIU</th>\n",
       "      <th>TP_ESCOLA</th>\n",
       "      <th>...</th>\n",
       "      <th>NU_NOTA_COMP5</th>\n",
       "      <th>NU_NOTA_REDACAO</th>\n",
       "      <th>Q001</th>\n",
       "      <th>Q002</th>\n",
       "      <th>Q006</th>\n",
       "      <th>Q024</th>\n",
       "      <th>Q025</th>\n",
       "      <th>Q026</th>\n",
       "      <th>Q027</th>\n",
       "      <th>Q047</th>\n",
       "    </tr>\n",
       "  </thead>\n",
       "  <tbody>\n",
       "    <tr>\n",
       "      <th>0</th>\n",
       "      <td>73ff9fcc02f0a99919906c942c2e1a1042cdcf98</td>\n",
       "      <td>41</td>\n",
       "      <td>PR</td>\n",
       "      <td>22</td>\n",
       "      <td>F</td>\n",
       "      <td>3</td>\n",
       "      <td>1</td>\n",
       "      <td>1</td>\n",
       "      <td>5</td>\n",
       "      <td>1</td>\n",
       "      <td>...</td>\n",
       "      <td>40.0</td>\n",
       "      <td>420.0</td>\n",
       "      <td>B</td>\n",
       "      <td>A</td>\n",
       "      <td>C</td>\n",
       "      <td>A</td>\n",
       "      <td>A</td>\n",
       "      <td>C</td>\n",
       "      <td>C</td>\n",
       "      <td>A</td>\n",
       "    </tr>\n",
       "    <tr>\n",
       "      <th>1</th>\n",
       "      <td>71a95f9f1b91a82c65ad94abbdf9f54e6066f968</td>\n",
       "      <td>21</td>\n",
       "      <td>MA</td>\n",
       "      <td>26</td>\n",
       "      <td>F</td>\n",
       "      <td>3</td>\n",
       "      <td>1</td>\n",
       "      <td>1</td>\n",
       "      <td>8</td>\n",
       "      <td>1</td>\n",
       "      <td>...</td>\n",
       "      <td>100.0</td>\n",
       "      <td>580.0</td>\n",
       "      <td>E</td>\n",
       "      <td>B</td>\n",
       "      <td>C</td>\n",
       "      <td>B</td>\n",
       "      <td>B</td>\n",
       "      <td>B</td>\n",
       "      <td>F</td>\n",
       "      <td>A</td>\n",
       "    </tr>\n",
       "    <tr>\n",
       "      <th>2</th>\n",
       "      <td>b38a03232f43b11c9d0788abaf060f7366053b6d</td>\n",
       "      <td>23</td>\n",
       "      <td>CE</td>\n",
       "      <td>21</td>\n",
       "      <td>M</td>\n",
       "      <td>1</td>\n",
       "      <td>1</td>\n",
       "      <td>2</td>\n",
       "      <td>0</td>\n",
       "      <td>2</td>\n",
       "      <td>...</td>\n",
       "      <td>80.0</td>\n",
       "      <td>320.0</td>\n",
       "      <td>E</td>\n",
       "      <td>E</td>\n",
       "      <td>D</td>\n",
       "      <td>B</td>\n",
       "      <td>B</td>\n",
       "      <td>A</td>\n",
       "      <td>NaN</td>\n",
       "      <td>A</td>\n",
       "    </tr>\n",
       "    <tr>\n",
       "      <th>3</th>\n",
       "      <td>70b682d9a3636be23f6120fa9d6b164eb3c6002d</td>\n",
       "      <td>15</td>\n",
       "      <td>PA</td>\n",
       "      <td>27</td>\n",
       "      <td>F</td>\n",
       "      <td>3</td>\n",
       "      <td>1</td>\n",
       "      <td>1</td>\n",
       "      <td>8</td>\n",
       "      <td>1</td>\n",
       "      <td>...</td>\n",
       "      <td>NaN</td>\n",
       "      <td>NaN</td>\n",
       "      <td>H</td>\n",
       "      <td>E</td>\n",
       "      <td>G</td>\n",
       "      <td>B</td>\n",
       "      <td>B</td>\n",
       "      <td>A</td>\n",
       "      <td>NaN</td>\n",
       "      <td>A</td>\n",
       "    </tr>\n",
       "    <tr>\n",
       "      <th>4</th>\n",
       "      <td>715494628a50142ce8cb17191cfe6d0f3cae0934</td>\n",
       "      <td>41</td>\n",
       "      <td>PR</td>\n",
       "      <td>18</td>\n",
       "      <td>M</td>\n",
       "      <td>1</td>\n",
       "      <td>1</td>\n",
       "      <td>2</td>\n",
       "      <td>0</td>\n",
       "      <td>2</td>\n",
       "      <td>...</td>\n",
       "      <td>0.0</td>\n",
       "      <td>320.0</td>\n",
       "      <td>D</td>\n",
       "      <td>H</td>\n",
       "      <td>H</td>\n",
       "      <td>C</td>\n",
       "      <td>B</td>\n",
       "      <td>A</td>\n",
       "      <td>NaN</td>\n",
       "      <td>A</td>\n",
       "    </tr>\n",
       "  </tbody>\n",
       "</table>\n",
       "<p>5 rows × 47 columns</p>\n",
       "</div>"
      ],
      "text/plain": [
       "                               NU_INSCRICAO  CO_UF_RESIDENCIA  \\\n",
       "0  73ff9fcc02f0a99919906c942c2e1a1042cdcf98                41   \n",
       "1  71a95f9f1b91a82c65ad94abbdf9f54e6066f968                21   \n",
       "2  b38a03232f43b11c9d0788abaf060f7366053b6d                23   \n",
       "3  70b682d9a3636be23f6120fa9d6b164eb3c6002d                15   \n",
       "4  715494628a50142ce8cb17191cfe6d0f3cae0934                41   \n",
       "\n",
       "  SG_UF_RESIDENCIA  NU_IDADE TP_SEXO  TP_COR_RACA  TP_NACIONALIDADE  \\\n",
       "0               PR        22       F            3                 1   \n",
       "1               MA        26       F            3                 1   \n",
       "2               CE        21       M            1                 1   \n",
       "3               PA        27       F            3                 1   \n",
       "4               PR        18       M            1                 1   \n",
       "\n",
       "   TP_ST_CONCLUSAO  TP_ANO_CONCLUIU  TP_ESCOLA  ...  NU_NOTA_COMP5  \\\n",
       "0                1                5          1  ...           40.0   \n",
       "1                1                8          1  ...          100.0   \n",
       "2                2                0          2  ...           80.0   \n",
       "3                1                8          1  ...            NaN   \n",
       "4                2                0          2  ...            0.0   \n",
       "\n",
       "   NU_NOTA_REDACAO  Q001  Q002  Q006  Q024  Q025  Q026  Q027  Q047  \n",
       "0            420.0     B     A     C     A     A     C     C     A  \n",
       "1            580.0     E     B     C     B     B     B     F     A  \n",
       "2            320.0     E     E     D     B     B     A   NaN     A  \n",
       "3              NaN     H     E     G     B     B     A   NaN     A  \n",
       "4            320.0     D     H     H     C     B     A   NaN     A  \n",
       "\n",
       "[5 rows x 47 columns]"
      ]
     },
     "execution_count": 8,
     "metadata": {},
     "output_type": "execute_result"
    }
   ],
   "source": [
    "test.head()"
   ]
  },
  {
   "cell_type": "code",
   "execution_count": 9,
   "metadata": {
    "ExecuteTime": {
     "end_time": "2020-05-30T23:36:22.991206Z",
     "start_time": "2020-05-30T23:36:22.970611Z"
    }
   },
   "outputs": [],
   "source": [
    "full_df = full_df[test.columns.tolist() + [variavel_resposta]]"
   ]
  },
  {
   "cell_type": "code",
   "execution_count": 10,
   "metadata": {
    "ExecuteTime": {
     "end_time": "2020-05-30T23:36:23.424666Z",
     "start_time": "2020-05-30T23:36:23.416685Z"
    }
   },
   "outputs": [
    {
     "data": {
      "text/plain": [
       "(10133, 48)"
      ]
     },
     "execution_count": 10,
     "metadata": {},
     "output_type": "execute_result"
    }
   ],
   "source": [
    "full_df.shape"
   ]
  },
  {
   "cell_type": "code",
   "execution_count": 11,
   "metadata": {
    "ExecuteTime": {
     "end_time": "2020-05-30T23:36:23.998913Z",
     "start_time": "2020-05-30T23:36:23.973943Z"
    }
   },
   "outputs": [
    {
     "data": {
      "text/plain": [
       "NU_INSCRICAO                 0\n",
       "CO_UF_RESIDENCIA             0\n",
       "SG_UF_RESIDENCIA             0\n",
       "NU_IDADE                     0\n",
       "TP_SEXO                      0\n",
       "TP_COR_RACA                  0\n",
       "TP_NACIONALIDADE             0\n",
       "TP_ST_CONCLUSAO              0\n",
       "TP_ANO_CONCLUIU              0\n",
       "TP_ESCOLA                    0\n",
       "TP_ENSINO                 6494\n",
       "IN_TREINEIRO                 0\n",
       "TP_DEPENDENCIA_ADM_ESC    6494\n",
       "IN_BAIXA_VISAO               0\n",
       "IN_CEGUEIRA                  0\n",
       "IN_SURDEZ                    0\n",
       "IN_DISLEXIA                  0\n",
       "IN_DISCALCULIA               0\n",
       "IN_SABATISTA                 0\n",
       "IN_GESTANTE                  0\n",
       "IN_IDOSO                     0\n",
       "TP_PRESENCA_CN               0\n",
       "TP_PRESENCA_CH               0\n",
       "TP_PRESENCA_LC               0\n",
       "CO_PROVA_CN                  0\n",
       "CO_PROVA_CH                  0\n",
       "CO_PROVA_LC                  0\n",
       "CO_PROVA_MT                  0\n",
       "NU_NOTA_CN                  36\n",
       "NU_NOTA_CH                  36\n",
       "NU_NOTA_LC                   0\n",
       "TP_LINGUA                    0\n",
       "TP_STATUS_REDACAO            0\n",
       "NU_NOTA_COMP1                0\n",
       "NU_NOTA_COMP2                0\n",
       "NU_NOTA_COMP3                0\n",
       "NU_NOTA_COMP4                0\n",
       "NU_NOTA_COMP5                0\n",
       "NU_NOTA_REDACAO              0\n",
       "Q001                         0\n",
       "Q002                         0\n",
       "Q006                         0\n",
       "Q024                         0\n",
       "Q025                         0\n",
       "Q026                         0\n",
       "Q027                      6126\n",
       "Q047                         0\n",
       "NU_NOTA_MT                   0\n",
       "dtype: int64"
      ]
     },
     "execution_count": 11,
     "metadata": {},
     "output_type": "execute_result"
    }
   ],
   "source": [
    "full_df.isna().sum()"
   ]
  },
  {
   "cell_type": "code",
   "execution_count": 12,
   "metadata": {
    "ExecuteTime": {
     "end_time": "2020-05-30T23:36:27.099228Z",
     "start_time": "2020-05-30T23:36:27.083235Z"
    }
   },
   "outputs": [
    {
     "data": {
      "text/plain": [
       "NU_INSCRICAO                 0\n",
       "CO_UF_RESIDENCIA             0\n",
       "SG_UF_RESIDENCIA             0\n",
       "NU_IDADE                     0\n",
       "TP_SEXO                      0\n",
       "TP_COR_RACA                  0\n",
       "TP_NACIONALIDADE             0\n",
       "TP_ST_CONCLUSAO              0\n",
       "TP_ANO_CONCLUIU              0\n",
       "TP_ESCOLA                    0\n",
       "TP_ENSINO                 3096\n",
       "IN_TREINEIRO                 0\n",
       "TP_DEPENDENCIA_ADM_ESC    3096\n",
       "IN_BAIXA_VISAO               0\n",
       "IN_CEGUEIRA                  0\n",
       "IN_SURDEZ                    0\n",
       "IN_DISLEXIA                  0\n",
       "IN_DISCALCULIA               0\n",
       "IN_SABATISTA                 0\n",
       "IN_GESTANTE                  0\n",
       "IN_IDOSO                     0\n",
       "TP_PRESENCA_CN               0\n",
       "TP_PRESENCA_CH               0\n",
       "TP_PRESENCA_LC               0\n",
       "CO_PROVA_CN                  0\n",
       "CO_PROVA_CH                  0\n",
       "CO_PROVA_LC                  0\n",
       "CO_PROVA_MT                  0\n",
       "NU_NOTA_CN                1134\n",
       "NU_NOTA_CH                1134\n",
       "NU_NOTA_LC                1199\n",
       "TP_LINGUA                    0\n",
       "TP_STATUS_REDACAO         1199\n",
       "NU_NOTA_COMP1             1199\n",
       "NU_NOTA_COMP2             1199\n",
       "NU_NOTA_COMP3             1199\n",
       "NU_NOTA_COMP4             1199\n",
       "NU_NOTA_COMP5             1199\n",
       "NU_NOTA_REDACAO           1199\n",
       "Q001                         0\n",
       "Q002                         0\n",
       "Q006                         0\n",
       "Q024                         0\n",
       "Q025                         0\n",
       "Q026                         0\n",
       "Q027                      2488\n",
       "Q047                         0\n",
       "dtype: int64"
      ]
     },
     "execution_count": 12,
     "metadata": {},
     "output_type": "execute_result"
    }
   ],
   "source": [
    "test.isna().sum()"
   ]
  },
  {
   "cell_type": "code",
   "execution_count": 13,
   "metadata": {
    "ExecuteTime": {
     "end_time": "2020-05-30T23:36:29.809715Z",
     "start_time": "2020-05-30T23:36:29.786779Z"
    }
   },
   "outputs": [],
   "source": [
    "full_df = full_df.drop(columns=['TP_ENSINO','TP_DEPENDENCIA_ADM_ESC'])\n",
    "test = test.drop(columns=['TP_ENSINO','TP_DEPENDENCIA_ADM_ESC'])"
   ]
  },
  {
   "cell_type": "code",
   "execution_count": 14,
   "metadata": {
    "ExecuteTime": {
     "end_time": "2020-05-30T23:36:30.511458Z",
     "start_time": "2020-05-30T23:36:30.484539Z"
    }
   },
   "outputs": [],
   "source": [
    "full_df.loc[full_df['Q027'].isna(),'Q027'] = 'NULL'\n",
    "test.loc[test['Q027'].isna(),'Q027'] = 'NULL'"
   ]
  },
  {
   "cell_type": "code",
   "execution_count": 15,
   "metadata": {
    "ExecuteTime": {
     "end_time": "2020-05-30T23:36:31.356350Z",
     "start_time": "2020-05-30T23:36:31.340345Z"
    }
   },
   "outputs": [
    {
     "data": {
      "text/plain": [
       "0        43\n",
       "1        23\n",
       "5        29\n",
       "6        51\n",
       "7        43\n",
       "8        26\n",
       "10       26\n",
       "11       21\n",
       "12       43\n",
       "14       24\n",
       "16       41\n",
       "17       21\n",
       "18       15\n",
       "20       31\n",
       "25       31\n",
       "27       32\n",
       "28       35\n",
       "29       41\n",
       "30       21\n",
       "31       26\n",
       "32       23\n",
       "33       33\n",
       "34       35\n",
       "35       13\n",
       "36       43\n",
       "38       29\n",
       "39       51\n",
       "40       31\n",
       "41       42\n",
       "42       13\n",
       "         ..\n",
       "13691    26\n",
       "13692    35\n",
       "13693    32\n",
       "13694    53\n",
       "13695    52\n",
       "13696    11\n",
       "13699    43\n",
       "13700    23\n",
       "13701    23\n",
       "13702    50\n",
       "13703    23\n",
       "13704    15\n",
       "13705    43\n",
       "13706    35\n",
       "13707    33\n",
       "13710    29\n",
       "13712    32\n",
       "13714    33\n",
       "13717    23\n",
       "13718    23\n",
       "13719    26\n",
       "13720    43\n",
       "13721    33\n",
       "13723    33\n",
       "13724    33\n",
       "13725    35\n",
       "13726    26\n",
       "13727    43\n",
       "13728    33\n",
       "13729    41\n",
       "Name: CO_UF_RESIDENCIA, Length: 10133, dtype: int64"
      ]
     },
     "execution_count": 15,
     "metadata": {},
     "output_type": "execute_result"
    }
   ],
   "source": [
    "full_df['CO_UF_RESIDENCIA']"
   ]
  },
  {
   "cell_type": "code",
   "execution_count": 16,
   "metadata": {
    "ExecuteTime": {
     "end_time": "2020-05-30T23:36:36.603122Z",
     "start_time": "2020-05-30T23:36:36.520313Z"
    }
   },
   "outputs": [
    {
     "data": {
      "text/plain": [
       "NU_INSCRICAO         10133\n",
       "CO_UF_RESIDENCIA        27\n",
       "SG_UF_RESIDENCIA        27\n",
       "NU_IDADE                53\n",
       "TP_SEXO                  2\n",
       "TP_COR_RACA              6\n",
       "TP_NACIONALIDADE         5\n",
       "TP_ST_CONCLUSAO          4\n",
       "TP_ANO_CONCLUIU         11\n",
       "TP_ESCOLA                4\n",
       "IN_TREINEIRO             2\n",
       "IN_BAIXA_VISAO           2\n",
       "IN_CEGUEIRA              1\n",
       "IN_SURDEZ                2\n",
       "IN_DISLEXIA              2\n",
       "IN_DISCALCULIA           2\n",
       "IN_SABATISTA             2\n",
       "IN_GESTANTE              2\n",
       "IN_IDOSO                 2\n",
       "TP_PRESENCA_CN           3\n",
       "TP_PRESENCA_CH           3\n",
       "TP_PRESENCA_LC           1\n",
       "CO_PROVA_CN             10\n",
       "CO_PROVA_CH             10\n",
       "CO_PROVA_LC              8\n",
       "CO_PROVA_MT              8\n",
       "NU_NOTA_CN            2680\n",
       "NU_NOTA_CH            2963\n",
       "NU_NOTA_LC            2774\n",
       "TP_LINGUA                2\n",
       "TP_STATUS_REDACAO        9\n",
       "NU_NOTA_COMP1           15\n",
       "NU_NOTA_COMP2           13\n",
       "NU_NOTA_COMP3           12\n",
       "NU_NOTA_COMP4           14\n",
       "NU_NOTA_COMP5           14\n",
       "NU_NOTA_REDACAO         53\n",
       "Q001                     8\n",
       "Q002                     8\n",
       "Q006                    17\n",
       "Q024                     5\n",
       "Q025                     2\n",
       "Q026                     3\n",
       "Q027                    14\n",
       "Q047                     5\n",
       "NU_NOTA_MT            3406\n",
       "dtype: int64"
      ]
     },
     "execution_count": 16,
     "metadata": {},
     "output_type": "execute_result"
    }
   ],
   "source": [
    "full_df.nunique()"
   ]
  },
  {
   "cell_type": "code",
   "execution_count": 17,
   "metadata": {
    "ExecuteTime": {
     "end_time": "2020-05-30T23:36:38.977403Z",
     "start_time": "2020-05-30T23:36:38.971422Z"
    }
   },
   "outputs": [],
   "source": [
    "categorical = ['SG_UF_RESIDENCIA','TP_COR_RACA','TP_NACIONALIDADE','TP_ST_CONCLUSAO',\n",
    "               'TP_ANO_CONCLUIU','TP_ESCOLA','TP_PRESENCA_CN','TP_PRESENCA_CH','TP_PRESENCA_LC',\n",
    "              'CO_PROVA_CN','CO_PROVA_CH','CO_PROVA_LC','CO_PROVA_MT','TP_STATUS_REDACAO',\n",
    "               'Q001','Q002','Q006','Q024','Q026','Q027','Q047',]"
   ]
  },
  {
   "cell_type": "code",
   "execution_count": 18,
   "metadata": {
    "ExecuteTime": {
     "end_time": "2020-05-30T23:36:39.740382Z",
     "start_time": "2020-05-30T23:36:39.732400Z"
    }
   },
   "outputs": [],
   "source": [
    "numeric = ['NU_NOTA_CN','NU_NOTA_CH','NU_NOTA_LC','NU_NOTA_COMP1','NU_NOTA_COMP2',\n",
    "           'NU_NOTA_COMP3','NU_NOTA_COMP4','NU_NOTA_COMP5','NU_NOTA_REDACAO',]"
   ]
  },
  {
   "cell_type": "code",
   "execution_count": 19,
   "metadata": {
    "ExecuteTime": {
     "end_time": "2020-05-30T23:36:40.278078Z",
     "start_time": "2020-05-30T23:36:40.218245Z"
    }
   },
   "outputs": [],
   "source": [
    "full_df.loc[full_df['Q025'] == 'B','Q025'] = 1\n",
    "full_df.loc[full_df['Q025'] == 'A','Q025'] = 0\n",
    "test.loc[test['Q025'] == 'B','Q025'] = 1\n",
    "test.loc[test['Q025'] == 'A','Q025'] = 0"
   ]
  },
  {
   "cell_type": "code",
   "execution_count": 20,
   "metadata": {
    "ExecuteTime": {
     "end_time": "2020-05-30T23:36:40.976494Z",
     "start_time": "2020-05-30T23:36:40.899727Z"
    }
   },
   "outputs": [],
   "source": [
    "full_df.loc[full_df['TP_SEXO'] == 'M','TP_SEXO'] = 1\n",
    "full_df.loc[full_df['TP_SEXO'] == 'F','TP_SEXO'] = 0\n",
    "test.loc[test['TP_SEXO'] == 'M','TP_SEXO'] = 1\n",
    "test.loc[test['TP_SEXO'] == 'F','TP_SEXO'] = 0"
   ]
  },
  {
   "cell_type": "code",
   "execution_count": 21,
   "metadata": {
    "ExecuteTime": {
     "end_time": "2020-05-30T23:36:58.062099Z",
     "start_time": "2020-05-30T23:36:58.047150Z"
    }
   },
   "outputs": [],
   "source": [
    "full_df = full_df.set_index('NU_INSCRICAO')"
   ]
  },
  {
   "cell_type": "code",
   "execution_count": 22,
   "metadata": {
    "ExecuteTime": {
     "end_time": "2020-05-30T23:36:58.856539Z",
     "start_time": "2020-05-30T23:36:58.849556Z"
    }
   },
   "outputs": [],
   "source": [
    "X = full_df.drop(columns=variavel_resposta)"
   ]
  },
  {
   "cell_type": "code",
   "execution_count": 23,
   "metadata": {
    "ExecuteTime": {
     "end_time": "2020-05-30T23:36:59.408412Z",
     "start_time": "2020-05-30T23:36:59.401439Z"
    }
   },
   "outputs": [],
   "source": [
    "y = full_df[variavel_resposta]"
   ]
  },
  {
   "cell_type": "code",
   "execution_count": 24,
   "metadata": {
    "ExecuteTime": {
     "end_time": "2020-05-30T23:37:00.579979Z",
     "start_time": "2020-05-30T23:37:00.213568Z"
    }
   },
   "outputs": [],
   "source": [
    "from sklearn.model_selection import train_test_split"
   ]
  },
  {
   "cell_type": "code",
   "execution_count": 25,
   "metadata": {
    "ExecuteTime": {
     "end_time": "2020-05-30T23:37:01.105263Z",
     "start_time": "2020-05-30T23:37:01.080282Z"
    }
   },
   "outputs": [],
   "source": [
    "X_train, X_valid, y_train,y_valid = train_test_split(X,y,test_size=0.2,random_state = 42)"
   ]
  },
  {
   "cell_type": "code",
   "execution_count": 26,
   "metadata": {
    "ExecuteTime": {
     "end_time": "2020-05-30T23:37:06.506139Z",
     "start_time": "2020-05-30T23:37:03.827562Z"
    }
   },
   "outputs": [],
   "source": [
    "from sklearn.compose import ColumnTransformer\n",
    "from sklearn.pipeline import Pipeline\n",
    "from sklearn.impute import SimpleImputer\n",
    "from sklearn.preprocessing import OneHotEncoder\n",
    "from sklearn.ensemble import RandomForestRegressor\n",
    "from sklearn.metrics import mean_absolute_error\n",
    "from sklearn.preprocessing import StandardScaler\n",
    "from sklearn.linear_model import LinearRegression\n",
    "# Preprocessing for numerical data\n",
    "numerical_transformer = Pipeline(steps=[\n",
    "    ('imputer',SimpleImputer(strategy='median')),\n",
    "    ('scaler',StandardScaler())\n",
    "])\n",
    "\n",
    "# Preprocessing for categorical data\n",
    "categorical_transformer = Pipeline(steps=[\n",
    "    ('imputer', SimpleImputer(strategy='most_frequent')),\n",
    "    ('onehot', OneHotEncoder(handle_unknown='ignore'))\n",
    "])\n",
    "\n",
    "# Bundle preprocessing for numerical and categorical data\n",
    "preprocessor = ColumnTransformer(\n",
    "    transformers=[\n",
    "        ('num', numerical_transformer, numeric),\n",
    "        ('cat', categorical_transformer, categorical)\n",
    "    ])\n",
    "\n",
    "# Define model\n",
    "LRmodel = LinearRegression()\n",
    "RFmodel = RandomForestRegressor(random_state=42, n_estimators=50)\n",
    "\n",
    "# Bundle preprocessing and modeling code in a pipeline\n",
    "clf_lr = Pipeline(steps=[('preprocessor', preprocessor),\n",
    "                      ('model', LRmodel)\n",
    "                     ])\n",
    "clf_rf = Pipeline(steps=[('preprocessor', preprocessor),\n",
    "                      ('model', RFmodel)\n",
    "                     ])"
   ]
  },
  {
   "cell_type": "code",
   "execution_count": 27,
   "metadata": {
    "ExecuteTime": {
     "end_time": "2020-05-30T23:41:37.061238Z",
     "start_time": "2020-05-30T23:37:09.356157Z"
    }
   },
   "outputs": [],
   "source": [
    "from sklearn.model_selection import cross_val_score\n",
    "scores_lr = -1 * cross_val_score(clf_lr, X, y,\n",
    "                              cv=5,\n",
    "                              scoring='neg_mean_absolute_error')\n",
    "scores_rf = -1 * cross_val_score(clf_rf, X, y,\n",
    "                              cv=5,\n",
    "                              scoring='neg_mean_absolute_error')"
   ]
  },
  {
   "cell_type": "code",
   "execution_count": 28,
   "metadata": {
    "ExecuteTime": {
     "end_time": "2020-05-30T23:41:37.069219Z",
     "start_time": "2020-05-30T23:41:37.062236Z"
    }
   },
   "outputs": [
    {
     "name": "stdout",
     "output_type": "stream",
     "text": [
      "[58.74043841 60.45655953 60.53447873 59.84397319 58.45960867]\n",
      "[58.66745437 59.32400987 60.19487222 59.25792103 58.21264166]\n"
     ]
    }
   ],
   "source": [
    "print(scores_lr)\n",
    "print(scores_rf)"
   ]
  },
  {
   "cell_type": "code",
   "execution_count": 29,
   "metadata": {
    "ExecuteTime": {
     "end_time": "2020-05-30T23:42:30.990849Z",
     "start_time": "2020-05-30T23:41:37.072210Z"
    }
   },
   "outputs": [],
   "source": [
    "clf_rf.fit(X_train,y_train)\n",
    "y_hat_rf = clf_rf.predict(X_valid)"
   ]
  },
  {
   "cell_type": "code",
   "execution_count": 30,
   "metadata": {
    "ExecuteTime": {
     "end_time": "2020-05-30T23:42:31.704375Z",
     "start_time": "2020-05-30T23:42:30.993636Z"
    }
   },
   "outputs": [],
   "source": [
    "clf_lr.fit(X_train,y_train)\n",
    "y_hat_lr = clf_lr.predict(X_valid)"
   ]
  },
  {
   "cell_type": "code",
   "execution_count": 32,
   "metadata": {
    "ExecuteTime": {
     "end_time": "2020-05-30T23:43:06.220464Z",
     "start_time": "2020-05-30T23:43:05.723439Z"
    }
   },
   "outputs": [
    {
     "data": {
      "image/png": "[encoded data removed]",
      "text/plain": [
       "<Figure size 432x288 with 1 Axes>"
      ]
     },
     "metadata": {
      "needs_background": "light"
     },
     "output_type": "display_data"
    }
   ],
   "source": [
    "import matplotlib.pyplot as plt\n",
    "\n",
    "plt.scatter(y_hat_lr,y_valid)\n",
    "plt.ylabel(\"y_valid\")\n",
    "plt.xlabel(\"y_hat\")\n",
    "plt.show()"
   ]
  },
  {
   "cell_type": "code",
   "execution_count": 33,
   "metadata": {
    "ExecuteTime": {
     "end_time": "2020-05-30T23:43:14.761034Z",
     "start_time": "2020-05-30T23:43:14.582477Z"
    }
   },
   "outputs": [
    {
     "data": {
      "image/png": "[encoded data removed]",
      "text/plain": [
       "<Figure size 432x288 with 1 Axes>"
      ]
     },
     "metadata": {
      "needs_background": "light"
     },
     "output_type": "display_data"
    }
   ],
   "source": [
    "import matplotlib.pyplot as plt\n",
    "\n",
    "plt.scatter(y_hat_rf,y_valid)\n",
    "plt.ylabel(\"y_valid\")\n",
    "plt.xlabel(\"y_hat\")\n",
    "plt.show()"
   ]
  },
  {
   "cell_type": "code",
   "execution_count": 46,
   "metadata": {
    "ExecuteTime": {
     "end_time": "2020-05-30T23:54:31.719496Z",
     "start_time": "2020-05-30T23:54:31.715543Z"
    }
   },
   "outputs": [],
   "source": [
    "clf = Pipeline(steps=[('preprocessor', preprocessor),\n",
    "                      ('model', RFmodel)\n",
    "                     ])"
   ]
  },
  {
   "cell_type": "code",
   "execution_count": 48,
   "metadata": {
    "ExecuteTime": {
     "end_time": "2020-05-30T23:56:31.283935Z",
     "start_time": "2020-05-30T23:55:15.037559Z"
    }
   },
   "outputs": [
    {
     "data": {
      "text/plain": [
       "Pipeline(memory=None,\n",
       "         steps=[('preprocessor',\n",
       "                 ColumnTransformer(n_jobs=None, remainder='drop',\n",
       "                                   sparse_threshold=0.3,\n",
       "                                   transformer_weights=None,\n",
       "                                   transformers=[('num',\n",
       "                                                  Pipeline(memory=None,\n",
       "                                                           steps=[('imputer',\n",
       "                                                                   SimpleImputer(add_indicator=False,\n",
       "                                                                                 copy=True,\n",
       "                                                                                 fill_value=None,\n",
       "                                                                                 missing_values=nan,\n",
       "                                                                                 strategy='constant',\n",
       "                                                                                 verbose=0)),\n",
       "                                                                  ('scaler',\n",
       "                                                                   StandardScaler(copy=True,\n",
       "                                                                                  with_me...\n",
       "                 RandomForestRegressor(bootstrap=True, ccp_alpha=0.0,\n",
       "                                       criterion='mse', max_depth=None,\n",
       "                                       max_features='auto', max_leaf_nodes=None,\n",
       "                                       max_samples=None,\n",
       "                                       min_impurity_decrease=0.0,\n",
       "                                       min_impurity_split=None,\n",
       "                                       min_samples_leaf=1, min_samples_split=2,\n",
       "                                       min_weight_fraction_leaf=0.0,\n",
       "                                       n_estimators=50, n_jobs=None,\n",
       "                                       oob_score=False, random_state=42,\n",
       "                                       verbose=0, warm_start=False))],\n",
       "         verbose=False)"
      ]
     },
     "execution_count": 48,
     "metadata": {},
     "output_type": "execute_result"
    }
   ],
   "source": [
    "clf.fit(X,y)"
   ]
  },
  {
   "cell_type": "code",
   "execution_count": 34,
   "metadata": {
    "ExecuteTime": {
     "end_time": "2020-05-30T23:43:27.224328Z",
     "start_time": "2020-05-30T23:43:27.216347Z"
    }
   },
   "outputs": [],
   "source": [
    "test = test.set_index('NU_INSCRICAO')"
   ]
  },
  {
   "cell_type": "code",
   "execution_count": 49,
   "metadata": {
    "ExecuteTime": {
     "end_time": "2020-05-30T23:56:47.494642Z",
     "start_time": "2020-05-30T23:56:47.373737Z"
    }
   },
   "outputs": [],
   "source": [
    "y_test = clf.predict(test)"
   ]
  },
  {
   "cell_type": "code",
   "execution_count": 50,
   "metadata": {
    "ExecuteTime": {
     "end_time": "2020-05-30T23:56:50.925459Z",
     "start_time": "2020-05-30T23:56:50.913487Z"
    }
   },
   "outputs": [
    {
     "data": {
      "text/plain": [
       "array([433.74 , 450.16 , 576.028, ..., 676.488, 455.77 ,   0.   ])"
      ]
     },
     "execution_count": 50,
     "metadata": {},
     "output_type": "execute_result"
    }
   ],
   "source": [
    "y_test"
   ]
  },
  {
   "cell_type": "code",
   "execution_count": 54,
   "metadata": {
    "ExecuteTime": {
     "end_time": "2020-05-30T23:57:35.962436Z",
     "start_time": "2020-05-30T23:57:35.946479Z"
    }
   },
   "outputs": [
    {
     "name": "stdout",
     "output_type": "stream",
     "text": [
      "min: 0.0\n",
      "max: 850.6179999999999\n"
     ]
    }
   ],
   "source": [
    "print('min:',min(y_test))\n",
    "print('max:',max(y_test))"
   ]
  },
  {
   "cell_type": "code",
   "execution_count": 52,
   "metadata": {
    "ExecuteTime": {
     "end_time": "2020-05-30T23:57:04.605234Z",
     "start_time": "2020-05-30T23:57:04.601213Z"
    }
   },
   "outputs": [],
   "source": [
    "output = pd.DataFrame({'NU_INSCRICAO': test.index,\n",
    "                       'NU_NOTA_MT': y_test})"
   ]
  },
  {
   "cell_type": "code",
   "execution_count": 53,
   "metadata": {
    "ExecuteTime": {
     "end_time": "2020-05-30T23:57:05.513553Z",
     "start_time": "2020-05-30T23:57:05.494611Z"
    }
   },
   "outputs": [
    {
     "data": {
      "text/html": [
       "<div>\n",
       "<style scoped>\n",
       "    .dataframe tbody tr th:only-of-type {\n",
       "        vertical-align: middle;\n",
       "    }\n",
       "\n",
       "    .dataframe tbody tr th {\n",
       "        vertical-align: top;\n",
       "    }\n",
       "\n",
       "    .dataframe thead th {\n",
       "        text-align: right;\n",
       "    }\n",
       "</style>\n",
       "<table border=\"1\" class=\"dataframe\">\n",
       "  <thead>\n",
       "    <tr style=\"text-align: right;\">\n",
       "      <th></th>\n",
       "      <th>NU_INSCRICAO</th>\n",
       "      <th>NU_NOTA_MT</th>\n",
       "    </tr>\n",
       "  </thead>\n",
       "  <tbody>\n",
       "    <tr>\n",
       "      <th>0</th>\n",
       "      <td>73ff9fcc02f0a99919906c942c2e1a1042cdcf98</td>\n",
       "      <td>433.740</td>\n",
       "    </tr>\n",
       "    <tr>\n",
       "      <th>1</th>\n",
       "      <td>71a95f9f1b91a82c65ad94abbdf9f54e6066f968</td>\n",
       "      <td>450.160</td>\n",
       "    </tr>\n",
       "    <tr>\n",
       "      <th>2</th>\n",
       "      <td>b38a03232f43b11c9d0788abaf060f7366053b6d</td>\n",
       "      <td>576.028</td>\n",
       "    </tr>\n",
       "    <tr>\n",
       "      <th>3</th>\n",
       "      <td>70b682d9a3636be23f6120fa9d6b164eb3c6002d</td>\n",
       "      <td>0.000</td>\n",
       "    </tr>\n",
       "    <tr>\n",
       "      <th>4</th>\n",
       "      <td>715494628a50142ce8cb17191cfe6d0f3cae0934</td>\n",
       "      <td>527.834</td>\n",
       "    </tr>\n",
       "  </tbody>\n",
       "</table>\n",
       "</div>"
      ],
      "text/plain": [
       "                               NU_INSCRICAO  NU_NOTA_MT\n",
       "0  73ff9fcc02f0a99919906c942c2e1a1042cdcf98     433.740\n",
       "1  71a95f9f1b91a82c65ad94abbdf9f54e6066f968     450.160\n",
       "2  b38a03232f43b11c9d0788abaf060f7366053b6d     576.028\n",
       "3  70b682d9a3636be23f6120fa9d6b164eb3c6002d       0.000\n",
       "4  715494628a50142ce8cb17191cfe6d0f3cae0934     527.834"
      ]
     },
     "execution_count": 53,
     "metadata": {},
     "output_type": "execute_result"
    }
   ],
   "source": [
    "output.head()"
   ]
  },
  {
   "cell_type": "code",
   "execution_count": 55,
   "metadata": {
    "ExecuteTime": {
     "end_time": "2020-05-30T23:57:39.453551Z",
     "start_time": "2020-05-30T23:57:39.409612Z"
    }
   },
   "outputs": [],
   "source": [
    "output.to_csv('answer.csv',index=False)"
   ]
  },
  {
   "cell_type": "code",
   "execution_count": null,
   "metadata": {},
   "outputs": [],
   "source": []
  }
 ],
 "metadata": {
  "kernelspec": {
   "display_name": "Python 3",
   "language": "python",
   "name": "python3"
  },
  "language_info": {
   "codemirror_mode": {
    "name": "ipython",
    "version": 3
   },
   "file_extension": ".py",
   "mimetype": "text/x-python",
   "name": "python",
   "nbconvert_exporter": "python",
   "pygments_lexer": "ipython3",
   "version": "3.7.0"
  },
  "toc": {
   "base_numbering": 1,
   "nav_menu": {},
   "number_sections": true,
   "sideBar": true,
   "skip_h1_title": false,
   "title_cell": "Table of Contents",
   "title_sidebar": "Contents",
   "toc_cell": false,
   "toc_position": {},
   "toc_section_display": true,
   "toc_window_display": false
  }
 },
 "nbformat": 4,
 "nbformat_minor": 2
}
